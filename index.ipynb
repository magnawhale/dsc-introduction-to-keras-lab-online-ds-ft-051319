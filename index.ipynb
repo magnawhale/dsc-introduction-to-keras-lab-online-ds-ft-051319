{
 "cells": [
  {
   "cell_type": "markdown",
   "metadata": {},
   "source": [
    "# Keras - Lab\n",
    "\n",
    "## Introduction\n",
    "\n",
    "In this lab you'll once again build a neural network but this time with much less production time since we will be using Keras to do a lot of the heavy lifting building blocks which we coded from hand previously.  Our use case will be classifying Bank complaints.\n",
    "\n",
    "\n",
    "## Objectives\n",
    "\n",
    "You will be able to:\n",
    "* Build a neural network using Keras"
   ]
  },
  {
   "cell_type": "markdown",
   "metadata": {},
   "source": [
    "## Loading Required Packages\n",
    "\n",
    "Here we'll import all of the various packages that we'll use in this code along. We'll point out where these imports were used as they come up in the lab."
   ]
  },
  {
   "cell_type": "code",
   "execution_count": 1,
   "metadata": {},
   "outputs": [
    {
     "name": "stderr",
     "output_type": "stream",
     "text": [
      "Using TensorFlow backend.\n"
     ]
    }
   ],
   "source": [
    "import matplotlib.pyplot as plt\n",
    "import pandas as pd\n",
    "import numpy as np\n",
    "import random\n",
    "from sklearn.model_selection import train_test_split\n",
    "from keras.utils.np_utils import to_categorical\n",
    "from sklearn import preprocessing\n",
    "from keras.preprocessing.text import Tokenizer\n",
    "from keras import models\n",
    "from keras import layers\n",
    "from keras import optimizers"
   ]
  },
  {
   "cell_type": "markdown",
   "metadata": {},
   "source": [
    "## Loading the data\n",
    "\n",
    "As usual, we will start our data science process by importing the data itself.  \n",
    "Load and preview as a pandas dataframe.   \n",
    "The data is stored in a file **Bank_complaints.csv**."
   ]
  },
  {
   "cell_type": "code",
   "execution_count": 2,
   "metadata": {},
   "outputs": [
    {
     "data": {
      "text/html": [
       "<div>\n",
       "<style scoped>\n",
       "    .dataframe tbody tr th:only-of-type {\n",
       "        vertical-align: middle;\n",
       "    }\n",
       "\n",
       "    .dataframe tbody tr th {\n",
       "        vertical-align: top;\n",
       "    }\n",
       "\n",
       "    .dataframe thead th {\n",
       "        text-align: right;\n",
       "    }\n",
       "</style>\n",
       "<table border=\"1\" class=\"dataframe\">\n",
       "  <thead>\n",
       "    <tr style=\"text-align: right;\">\n",
       "      <th></th>\n",
       "      <th>Product</th>\n",
       "      <th>Consumer complaint narrative</th>\n",
       "    </tr>\n",
       "  </thead>\n",
       "  <tbody>\n",
       "    <tr>\n",
       "      <th>0</th>\n",
       "      <td>Student loan</td>\n",
       "      <td>In XX/XX/XXXX I filled out the Fedlaon applica...</td>\n",
       "    </tr>\n",
       "    <tr>\n",
       "      <th>1</th>\n",
       "      <td>Student loan</td>\n",
       "      <td>I am being contacted by a debt collector for p...</td>\n",
       "    </tr>\n",
       "    <tr>\n",
       "      <th>2</th>\n",
       "      <td>Student loan</td>\n",
       "      <td>I cosigned XXXX student loans at SallieMae for...</td>\n",
       "    </tr>\n",
       "    <tr>\n",
       "      <th>3</th>\n",
       "      <td>Student loan</td>\n",
       "      <td>Navient has sytematically and illegally failed...</td>\n",
       "    </tr>\n",
       "    <tr>\n",
       "      <th>4</th>\n",
       "      <td>Student loan</td>\n",
       "      <td>My wife became eligible for XXXX Loan Forgiven...</td>\n",
       "    </tr>\n",
       "  </tbody>\n",
       "</table>\n",
       "</div>"
      ],
      "text/plain": [
       "        Product                       Consumer complaint narrative\n",
       "0  Student loan  In XX/XX/XXXX I filled out the Fedlaon applica...\n",
       "1  Student loan  I am being contacted by a debt collector for p...\n",
       "2  Student loan  I cosigned XXXX student loans at SallieMae for...\n",
       "3  Student loan  Navient has sytematically and illegally failed...\n",
       "4  Student loan  My wife became eligible for XXXX Loan Forgiven..."
      ]
     },
     "execution_count": 2,
     "metadata": {},
     "output_type": "execute_result"
    }
   ],
   "source": [
    "df = pd.read_csv('Bank_complaints.csv')\n",
    "df.head()"
   ]
  },
  {
   "cell_type": "markdown",
   "metadata": {},
   "source": [
    "## Further Preview of the Categories\n",
    "\n",
    "As we said, our task here is to categorize banking complaints into various predefined categories. Preview what these categories are and what percent of the complaints each accounts for."
   ]
  },
  {
   "cell_type": "code",
   "execution_count": 3,
   "metadata": {},
   "outputs": [
    {
     "data": {
      "text/plain": [
       "Student loan                   19.01\n",
       "Credit card                    15.90\n",
       "Consumer Loan                  15.79\n",
       "Mortgage                       13.89\n",
       "Bank account or service        13.85\n",
       "Credit reporting               11.44\n",
       "Checking or savings account    10.13\n",
       "Name: Product, dtype: float64"
      ]
     },
     "execution_count": 3,
     "metadata": {},
     "output_type": "execute_result"
    }
   ],
   "source": [
    "round((df.Product.value_counts()/len(df))*100,2)"
   ]
  },
  {
   "cell_type": "markdown",
   "metadata": {},
   "source": [
    "## Preprocessing\n",
    "\n",
    "Before we build our neural network, we need to do several preprocessing steps. First, we will create word vector counts (a bag of words type representation) of our complaints text. Next, we will change the category labels to integers. Finally, we will perform our usual train-test split before building and training our neural network using Keras. With that, let's start munging our data!"
   ]
  },
  {
   "cell_type": "markdown",
   "metadata": {},
   "source": [
    "## One-hot encoding of the complaints\n",
    "\n",
    "Our first step again is to transform our textual data into a numerical representation. As we've started to see in some of our previous lessons on NLP, there are many ways to do this. Here, we'll use the `Tokenizer` method from the `preprocessing` module of the Keras package.   \n",
    "\n",
    "As with our previous work using NLTK, this will transform our text complaints into word vectors. (Note that the method of creating a vector is different from our previous work with NLTK; as you'll see, word order will be preserved as opposed to a bag of words representation. In the below code, we'll only keep the 2,000 most common words and use one-hot encoding.\n",
    "\n",
    "Note that the code block below takes advantage of the following package import from our first code cell above."
   ]
  },
  {
   "cell_type": "code",
   "execution_count": 4,
   "metadata": {},
   "outputs": [],
   "source": [
    "#As a quick preliminary, briefly review the docstring for the Keras.preprocessing.text.Tokenizer method:\n",
    "Tokenizer?"
   ]
  },
  {
   "cell_type": "code",
   "execution_count": 5,
   "metadata": {},
   "outputs": [
    {
     "name": "stdout",
     "output_type": "stream",
     "text": [
      "sequences type: <class 'list'>\n",
      "one_hot_results type: <class 'numpy.ndarray'>\n",
      "Found 50334 unique tokens.\n",
      "Dimensions of our coded results: (60000, 2000)\n"
     ]
    }
   ],
   "source": [
    "#Now onto the actual code recipe...\n",
    "complaints = df[\"Consumer complaint narrative\"] #Our raw text complaints\n",
    "tokenizer = Tokenizer(num_words=2000) #Initialize a tokenizer.\n",
    "tokenizer.fit_on_texts(complaints) #Fit it to the complaints\n",
    "\n",
    "sequences = tokenizer.texts_to_sequences(complaints) #Generate sequences\n",
    "print('sequences type:', type(sequences))\n",
    "\n",
    "one_hot_results= tokenizer.texts_to_matrix(complaints, mode='binary') #Similar to sequences, but returns a numpy array\n",
    "print('one_hot_results type:', type(one_hot_results))\n",
    "word_index = tokenizer.word_index #Useful if we wish to decode (more explanation below)\n",
    "\n",
    "print(f'Found {len(word_index)} unique tokens.') #Tokens are the number of unique words across the corpus\n",
    "print('Dimensions of our coded results:', np.shape(one_hot_results)) #Our coded data"
   ]
  },
  {
   "cell_type": "markdown",
   "metadata": {},
   "source": [
    "## Decoding our Word Vectors\n",
    "As a note, you can also decode these vectorized representations of the reviews. The `word_index` variable, defined above, stores the mapping from the label number to the actual word. Somewhat tediously, we can turn this dictionary inside out and map it back to our word vectors, giving us roughly the original complaint back. (As you'll see, the text won't be identical as we limited ourselves to 2000 words.)"
   ]
  },
  {
   "cell_type": "markdown",
   "metadata": {},
   "source": [
    "## Python Review / Mini Challenge\n",
    "\n",
    "While a bit tangential to our main topic of interest, we need to reverse our current dictionary `word_index` which maps words from our corpus to integers. In decoding our one_hot_results, we will need to create a dictionary of these integers to the original words. Below, take the `word_index` dictionary object and change the orientation so that the values are keys and the keys values. In other words, you are transforming something of the form {A:1, B:2, C:3} to {1:A, 2:B, 3:C}"
   ]
  },
  {
   "cell_type": "code",
   "execution_count": 6,
   "metadata": {},
   "outputs": [],
   "source": [
    "reverse_index = dict([(value, key) for key, value in word_index.items()]) "
   ]
  },
  {
   "cell_type": "markdown",
   "metadata": {},
   "source": [
    "## Back to Decoding Our Word Vectors..."
   ]
  },
  {
   "cell_type": "code",
   "execution_count": 11,
   "metadata": {},
   "outputs": [
    {
     "name": "stdout",
     "output_type": "stream",
     "text": [
      "Original complaint text:\n",
      "I have already filed several complaints about AES/PHEAA. I was notified by a XXXX XXXX let @ XXXX, who pretended to be from your office, he said he was from CFPB. I found out this morning he is n't from your office, but is actually works at XXXX. \r\n",
      "\r\n",
      "This has wasted weeks of my time. They AES/PHEAA confirmed and admitted ( see attached transcript of XXXX, conversation at XXXX ( XXXX ) with XXXX that proves they verified the loans are not mine ) the student loans they had XXXX, and collected on, and reported negate credit reporting in my name are in fact, not mine. \r\n",
      "They conclued their investigation on XXXX admitting they made a mistake and have my name on soneone elses loans. I these XXXX loans total {$10000.00}, original amount. My XXXX loans I got was total {$3500.00}. We proved by providing AES/PHEAA, this with my original promissary notes I located recently, the XXXX of my college provided AES/PHEAA with their original shoeinf amounts of my XXXX loans which show different dates and amounts, the dates and amounts are not even close to matching these loans they have in my name, The original lender, XXXX XXXX Bank notifying AES/PHEAA, they never issued me a student loan, and original Loan Guarantor, XXXX, notifying AES/PHEAA, they never were guarantor of my loans. \r\n",
      "\r\n",
      "XXXX straight forward. But today, this person, XXXX XXXX, told me they know these loans are not mine, and they refuse to remove my name off these XXXX loan 's and correct their mistake, essentially forcing me to pay these loans off, bucause in XXXX they sold the loans to XXXX loans. \r\n",
      "\r\n",
      "This is absurd, first protruding to be this office, and then refusing to correct their mistake. \r\n",
      "\r\n",
      "Please for the love of XXXX will soneone from your office call me at XXXX, today. I am a XXXX vet and they are knowingly discriminating against me. \r\n",
      "Pretending to be you.\n",
      "\n",
      "\n",
      "\n",
      "Decoded review from Tokenizer:\n",
      "i have already filed several complaints about aes i was notified by a xxxx xxxx let xxxx who to be from your office he said he was from cfpb i found out this morning he is n't from your office but is actually works at xxxx \r",
      " \r",
      " this has weeks of my time they aes confirmed and admitted see attached of xxxx conversation at xxxx xxxx with xxxx that they verified the loans are not mine the student loans they had xxxx and on and reported credit reporting in my name are in fact not mine \r",
      " they their investigation on xxxx they made a mistake and have my name on loans i these xxxx loans total 10000 00 original amount my xxxx loans i got was total 00 we by providing aes this with my original notes i located recently the xxxx of my college provided aes with their original amounts of my xxxx loans which show different dates and amounts the dates and amounts are not even close to these loans they have in my name the original lender xxxx xxxx bank notifying aes they never issued me a student loan and original loan xxxx notifying aes they never were of my loans \r",
      " \r",
      " xxxx forward but today this person xxxx xxxx told me they know these loans are not mine and they refuse to remove my name off these xxxx loan 's and correct their mistake essentially me to pay these loans off in xxxx they sold the loans to xxxx loans \r",
      " \r",
      " this is first to be this office and then refusing to correct their mistake \r",
      " \r",
      " please for the of xxxx will from your office call me at xxxx today i am a xxxx and they are against me \r",
      " to be you\n"
     ]
    }
   ],
   "source": [
    "comment_idx_to_preview = 19\n",
    "print('Original complaint text:')\n",
    "print(complaints[comment_idx_to_preview])\n",
    "print('\\n\\n')\n",
    "\n",
    "decoded_review = ' '.join([reverse_index.get(i) for i in sequences[comment_idx_to_preview]])\n",
    "print('Decoded review from Tokenizer:')\n",
    "print(decoded_review)"
   ]
  },
  {
   "cell_type": "markdown",
   "metadata": {},
   "source": [
    "## Convert the Products to Numerical Categories\n",
    "\n",
    "On to step two of our preprocessing: converting our descriptive categories into integers."
   ]
  },
  {
   "cell_type": "code",
   "execution_count": 13,
   "metadata": {},
   "outputs": [
    {
     "name": "stdout",
     "output_type": "stream",
     "text": [
      "Original class labels:\n",
      "['Bank account or service', 'Checking or savings account', 'Consumer Loan', 'Credit card', 'Credit reporting', 'Mortgage', 'Student loan']\n",
      "\n",
      "\n",
      "New product labels:\n",
      "[6 6 6 ... 4 4 4]\n",
      "\n",
      "\n",
      "One hot labels; 7 binary columns, one for each of the categories.\n",
      "[[0. 0. 0. ... 0. 0. 1.]\n",
      " [0. 0. 0. ... 0. 0. 1.]\n",
      " [0. 0. 0. ... 0. 0. 1.]\n",
      " ...\n",
      " [0. 0. 0. ... 1. 0. 0.]\n",
      " [0. 0. 0. ... 1. 0. 0.]\n",
      " [0. 0. 0. ... 1. 0. 0.]]\n",
      "\n",
      "\n",
      "One hot labels shape:\n",
      "(60000, 7)\n"
     ]
    }
   ],
   "source": [
    "product = df[\"Product\"]\n",
    "\n",
    "le = preprocessing.LabelEncoder() #Initialize. `le` = `LabelEncoder`\n",
    "le.fit(product)\n",
    "print(\"Original class labels:\")\n",
    "print(list(le.classes_))\n",
    "print('\\n')\n",
    "product_cat = le.transform(product)  \n",
    "#If you wish to retrieve the original descriptive labels post production, use:\n",
    "#list(le.inverse_transform([0, 1, 3, 3, 0, 6, 4])) \n",
    "\n",
    "print('New product labels:')\n",
    "print(product_cat)\n",
    "print('\\n')\n",
    "\n",
    "#Each row will be all zeros except for the category for that observation.\n",
    "print('One hot labels; 7 binary columns, one for each of the categories.') \n",
    "product_onehot = to_categorical(product_cat)\n",
    "print(product_onehot)\n",
    "print('\\n')\n",
    "\n",
    "print('One hot labels shape:')\n",
    "print(np.shape(product_onehot))"
   ]
  },
  {
   "cell_type": "markdown",
   "metadata": {},
   "source": [
    "## Train - test split\n",
    "\n",
    "Now for our final preprocessing step: the usual train-test split."
   ]
  },
  {
   "cell_type": "code",
   "execution_count": 14,
   "metadata": {},
   "outputs": [
    {
     "name": "stdout",
     "output_type": "stream",
     "text": [
      "Test label shape: (1500, 7)\n",
      "Train label shape: (58500, 7)\n",
      "Test shape: (1500, 2000)\n",
      "Train shape: (58500, 2000)\n"
     ]
    }
   ],
   "source": [
    "import random\n",
    "random.seed(123)\n",
    "test_index = random.sample(range(1,10000), 1500)\n",
    "\n",
    "test = one_hot_results[test_index]\n",
    "train = np.delete(one_hot_results, test_index, 0)\n",
    "\n",
    "label_test = product_onehot[test_index]\n",
    "label_train = np.delete(product_onehot, test_index, 0)\n",
    "\n",
    "print(\"Test label shape:\", np.shape(label_test))\n",
    "print(\"Train label shape:\", np.shape(label_train))\n",
    "print(\"Test shape:\", np.shape(test))\n",
    "print(\"Train shape:\", np.shape(train))"
   ]
  },
  {
   "cell_type": "markdown",
   "metadata": {},
   "source": [
    "## Building the network"
   ]
  },
  {
   "cell_type": "markdown",
   "metadata": {},
   "source": [
    "Let's build a fully connected (Dense) layer network with `relu` activations in Keras. You can do this using: `Dense(16, activation='relu')`."
   ]
  },
  {
   "cell_type": "markdown",
   "metadata": {},
   "source": [
    "In this example, use 2 hidden with 50 units in the first layer and 25 in the second, both with a `relu` activation function. Because we are dealing with a multiclass problem (classifying the complaints into 7 ), we use a softmax classifier in order to output 7 class probabilities per case.  \n",
    "\n",
    "The previous imports that you'll use here are:  \n",
    "\n",
    "```from keras import models\n",
    "from keras import layers```"
   ]
  },
  {
   "cell_type": "code",
   "execution_count": 17,
   "metadata": {},
   "outputs": [],
   "source": [
    "#initialize a sequential model with 3 layers; \n",
    "model = models.Sequential()\n",
    "\n",
    "#two hidden relu and the final classification output using softmax\n",
    "model.add(layers.Dense(units=50, activation='relu', input_shape=(2000,)))\n",
    "model.add(layers.Dense(units=25, activation='relu'))\n",
    "model.add(layers.Dense(units=7, activation='softmax'))"
   ]
  },
  {
   "cell_type": "markdown",
   "metadata": {},
   "source": [
    "## Compiling the model and look at the results\n",
    "\n",
    "Now, compile the model! This time, use `'categorical_crossentropy'` as the loss function and stochastic gradient descent, `'SGD'` as the optimizer. As in the previous lesson, include the accuracy as a metric."
   ]
  },
  {
   "cell_type": "code",
   "execution_count": 18,
   "metadata": {},
   "outputs": [],
   "source": [
    "model.compile(optimizer='SGD', loss='categorical_crossentropy', metrics=['accuracy'])"
   ]
  },
  {
   "cell_type": "markdown",
   "metadata": {},
   "source": [
    "## Training the model\n",
    "\n",
    "In the compiler, you'll be passing the optimizer (SGD = stochastic gradient descent), loss function, and metrics. Train the model for 120 epochs in mini-batches of 256 samples."
   ]
  },
  {
   "cell_type": "code",
   "execution_count": 22,
   "metadata": {
    "scrolled": true
   },
   "outputs": [
    {
     "name": "stdout",
     "output_type": "stream",
     "text": [
      "Epoch 1/120\n",
      "58500/58500 [==============================] - 2s 29us/step - loss: 0.3288 - acc: 0.8850\n",
      "Epoch 2/120\n",
      "58500/58500 [==============================] - 2s 28us/step - loss: 0.3283 - acc: 0.8849\n",
      "Epoch 3/120\n",
      "58500/58500 [==============================] - 2s 29us/step - loss: 0.3274 - acc: 0.8854\n",
      "Epoch 4/120\n",
      "58500/58500 [==============================] - 2s 29us/step - loss: 0.3262 - acc: 0.8852\n",
      "Epoch 5/120\n",
      "58500/58500 [==============================] - 2s 29us/step - loss: 0.3250 - acc: 0.8861\n",
      "Epoch 6/120\n",
      "58500/58500 [==============================] - 2s 31us/step - loss: 0.3241 - acc: 0.8869\n",
      "Epoch 7/120\n",
      "58500/58500 [==============================] - 2s 30us/step - loss: 0.3230 - acc: 0.8870\n",
      "Epoch 8/120\n",
      "58500/58500 [==============================] - 2s 30us/step - loss: 0.3221 - acc: 0.8876\n",
      "Epoch 9/120\n",
      "58500/58500 [==============================] - 2s 32us/step - loss: 0.3209 - acc: 0.8879\n",
      "Epoch 10/120\n",
      "58500/58500 [==============================] - 2s 31us/step - loss: 0.3199 - acc: 0.8882\n",
      "Epoch 11/120\n",
      "58500/58500 [==============================] - 2s 30us/step - loss: 0.3190 - acc: 0.8890\n",
      "Epoch 12/120\n",
      "58500/58500 [==============================] - 2s 35us/step - loss: 0.3178 - acc: 0.8896\n",
      "Epoch 13/120\n",
      "58500/58500 [==============================] - 2s 32us/step - loss: 0.3170 - acc: 0.8892\n",
      "Epoch 14/120\n",
      "58500/58500 [==============================] - 2s 33us/step - loss: 0.3161 - acc: 0.8904\n",
      "Epoch 15/120\n",
      "58500/58500 [==============================] - 2s 32us/step - loss: 0.3149 - acc: 0.8902\n",
      "Epoch 16/120\n",
      "58500/58500 [==============================] - 2s 33us/step - loss: 0.3139 - acc: 0.8907\n",
      "Epoch 17/120\n",
      "58500/58500 [==============================] - 2s 33us/step - loss: 0.3127 - acc: 0.8909\n",
      "Epoch 18/120\n",
      "58500/58500 [==============================] - 2s 33us/step - loss: 0.3115 - acc: 0.8915\n",
      "Epoch 19/120\n",
      "58500/58500 [==============================] - 2s 33us/step - loss: 0.3110 - acc: 0.8922\n",
      "Epoch 20/120\n",
      "58500/58500 [==============================] - 2s 34us/step - loss: 0.3097 - acc: 0.8918\n",
      "Epoch 21/120\n",
      "58500/58500 [==============================] - 2s 32us/step - loss: 0.3087 - acc: 0.8925\n",
      "Epoch 22/120\n",
      "58500/58500 [==============================] - ETA: 0s - loss: 0.3079 - acc: 0.893 - 2s 32us/step - loss: 0.3075 - acc: 0.8935\n",
      "Epoch 23/120\n",
      "58500/58500 [==============================] - 2s 32us/step - loss: 0.3065 - acc: 0.8938\n",
      "Epoch 24/120\n",
      "58500/58500 [==============================] - 2s 32us/step - loss: 0.3053 - acc: 0.8938\n",
      "Epoch 25/120\n",
      "58500/58500 [==============================] - 2s 32us/step - loss: 0.3042 - acc: 0.8954\n",
      "Epoch 26/120\n",
      "58500/58500 [==============================] - 2s 32us/step - loss: 0.3030 - acc: 0.8957\n",
      "Epoch 27/120\n",
      "58500/58500 [==============================] - 2s 32us/step - loss: 0.3021 - acc: 0.8959\n",
      "Epoch 28/120\n",
      "58500/58500 [==============================] - 2s 32us/step - loss: 0.3009 - acc: 0.8963\n",
      "Epoch 29/120\n",
      "58500/58500 [==============================] - 2s 32us/step - loss: 0.2996 - acc: 0.8967\n",
      "Epoch 30/120\n",
      "58500/58500 [==============================] - 2s 32us/step - loss: 0.2987 - acc: 0.8971\n",
      "Epoch 31/120\n",
      "58500/58500 [==============================] - 2s 33us/step - loss: 0.2977 - acc: 0.8981\n",
      "Epoch 32/120\n",
      "58500/58500 [==============================] - 2s 32us/step - loss: 0.2964 - acc: 0.8980\n",
      "Epoch 33/120\n",
      "58500/58500 [==============================] - 2s 32us/step - loss: 0.2953 - acc: 0.8982\n",
      "Epoch 34/120\n",
      "58500/58500 [==============================] - 2s 32us/step - loss: 0.2940 - acc: 0.8994\n",
      "Epoch 35/120\n",
      "58500/58500 [==============================] - 2s 33us/step - loss: 0.2932 - acc: 0.8996\n",
      "Epoch 36/120\n",
      "58500/58500 [==============================] - 2s 32us/step - loss: 0.2918 - acc: 0.9003\n",
      "Epoch 37/120\n",
      "58500/58500 [==============================] - 2s 35us/step - loss: 0.2906 - acc: 0.9005\n",
      "Epoch 38/120\n",
      "58500/58500 [==============================] - 2s 35us/step - loss: 0.2894 - acc: 0.9009\n",
      "Epoch 39/120\n",
      "58500/58500 [==============================] - 2s 32us/step - loss: 0.2881 - acc: 0.9018\n",
      "Epoch 40/120\n",
      "58500/58500 [==============================] - 2s 32us/step - loss: 0.2870 - acc: 0.9021\n",
      "Epoch 41/120\n",
      "58500/58500 [==============================] - 2s 34us/step - loss: 0.2862 - acc: 0.9025\n",
      "Epoch 42/120\n",
      "58500/58500 [==============================] - 2s 32us/step - loss: 0.2850 - acc: 0.9026\n",
      "Epoch 43/120\n",
      "58500/58500 [==============================] - 2s 32us/step - loss: 0.2838 - acc: 0.9041\n",
      "Epoch 44/120\n",
      "58500/58500 [==============================] - 2s 32us/step - loss: 0.2827 - acc: 0.9044\n",
      "Epoch 45/120\n",
      "58500/58500 [==============================] - 2s 32us/step - loss: 0.2812 - acc: 0.9050\n",
      "Epoch 46/120\n",
      "58500/58500 [==============================] - 2s 34us/step - loss: 0.2797 - acc: 0.9061\n",
      "Epoch 47/120\n",
      "58500/58500 [==============================] - 2s 33us/step - loss: 0.2788 - acc: 0.9065\n",
      "Epoch 48/120\n",
      "58500/58500 [==============================] - 2s 33us/step - loss: 0.2776 - acc: 0.9067\n",
      "Epoch 49/120\n",
      "58500/58500 [==============================] - 2s 35us/step - loss: 0.2763 - acc: 0.9072\n",
      "Epoch 50/120\n",
      "58500/58500 [==============================] - 2s 34us/step - loss: 0.2749 - acc: 0.9086\n",
      "Epoch 51/120\n",
      "58500/58500 [==============================] - 2s 33us/step - loss: 0.2741 - acc: 0.9087\n",
      "Epoch 52/120\n",
      "58500/58500 [==============================] - 2s 36us/step - loss: 0.2724 - acc: 0.9089\n",
      "Epoch 53/120\n",
      "58500/58500 [==============================] - 2s 34us/step - loss: 0.2713 - acc: 0.9090\n",
      "Epoch 54/120\n",
      "58500/58500 [==============================] - 2s 34us/step - loss: 0.2700 - acc: 0.9098\n",
      "Epoch 55/120\n",
      "58500/58500 [==============================] - 2s 34us/step - loss: 0.2691 - acc: 0.9101\n",
      "Epoch 56/120\n",
      "58500/58500 [==============================] - 2s 35us/step - loss: 0.2677 - acc: 0.9112\n",
      "Epoch 57/120\n",
      "58500/58500 [==============================] - 2s 35us/step - loss: 0.2659 - acc: 0.9114\n",
      "Epoch 58/120\n",
      "58500/58500 [==============================] - 2s 34us/step - loss: 0.2651 - acc: 0.9122\n",
      "Epoch 59/120\n",
      "58500/58500 [==============================] - 2s 33us/step - loss: 0.2634 - acc: 0.9131\n",
      "Epoch 60/120\n",
      "58500/58500 [==============================] - 2s 34us/step - loss: 0.2623 - acc: 0.9132\n",
      "Epoch 61/120\n",
      "58500/58500 [==============================] - 2s 34us/step - loss: 0.2613 - acc: 0.9140\n",
      "Epoch 62/120\n",
      "58500/58500 [==============================] - 2s 34us/step - loss: 0.2597 - acc: 0.9141\n",
      "Epoch 63/120\n",
      "58500/58500 [==============================] - 2s 35us/step - loss: 0.2584 - acc: 0.9147\n",
      "Epoch 64/120\n",
      "58500/58500 [==============================] - 2s 36us/step - loss: 0.2570 - acc: 0.9161\n",
      "Epoch 65/120\n",
      "58500/58500 [==============================] - 2s 36us/step - loss: 0.2557 - acc: 0.9162\n",
      "Epoch 66/120\n",
      "58500/58500 [==============================] - 2s 34us/step - loss: 0.2545 - acc: 0.9171\n",
      "Epoch 67/120\n",
      "58500/58500 [==============================] - 2s 34us/step - loss: 0.2530 - acc: 0.9174\n",
      "Epoch 68/120\n",
      "58500/58500 [==============================] - 2s 35us/step - loss: 0.2517 - acc: 0.9173\n",
      "Epoch 69/120\n",
      "58500/58500 [==============================] - 2s 34us/step - loss: 0.2509 - acc: 0.9184\n",
      "Epoch 70/120\n",
      "58500/58500 [==============================] - 2s 34us/step - loss: 0.2493 - acc: 0.9196\n",
      "Epoch 71/120\n",
      "58500/58500 [==============================] - 2s 34us/step - loss: 0.2475 - acc: 0.9203\n",
      "Epoch 72/120\n",
      "58500/58500 [==============================] - 2s 33us/step - loss: 0.2466 - acc: 0.9199\n",
      "Epoch 73/120\n",
      "58500/58500 [==============================] - 2s 35us/step - loss: 0.2452 - acc: 0.9211\n",
      "Epoch 74/120\n",
      "58500/58500 [==============================] - 2s 38us/step - loss: 0.2437 - acc: 0.9215\n",
      "Epoch 75/120\n",
      "58500/58500 [==============================] - 2s 35us/step - loss: 0.2423 - acc: 0.9219\n",
      "Epoch 76/120\n",
      "58500/58500 [==============================] - 2s 36us/step - loss: 0.2410 - acc: 0.9234\n",
      "Epoch 77/120\n",
      "58500/58500 [==============================] - 2s 34us/step - loss: 0.2397 - acc: 0.9230\n",
      "Epoch 78/120\n",
      "58500/58500 [==============================] - 2s 34us/step - loss: 0.2387 - acc: 0.9230\n",
      "Epoch 79/120\n",
      "58500/58500 [==============================] - 2s 34us/step - loss: 0.2367 - acc: 0.9248\n",
      "Epoch 80/120\n",
      "58500/58500 [==============================] - 2s 34us/step - loss: 0.2365 - acc: 0.9242\n",
      "Epoch 81/120\n"
     ]
    },
    {
     "name": "stdout",
     "output_type": "stream",
     "text": [
      "58500/58500 [==============================] - 2s 35us/step - loss: 0.2344 - acc: 0.9258\n",
      "Epoch 82/120\n",
      "58500/58500 [==============================] - 2s 32us/step - loss: 0.2337 - acc: 0.9261\n",
      "Epoch 83/120\n",
      "58500/58500 [==============================] - 2s 33us/step - loss: 0.2319 - acc: 0.9268\n",
      "Epoch 84/120\n",
      "58500/58500 [==============================] - 2s 33us/step - loss: 0.2301 - acc: 0.9274\n",
      "Epoch 85/120\n",
      "58500/58500 [==============================] - 2s 33us/step - loss: 0.2289 - acc: 0.9276\n",
      "Epoch 86/120\n",
      "58500/58500 [==============================] - 2s 32us/step - loss: 0.2279 - acc: 0.9283\n",
      "Epoch 87/120\n",
      "58500/58500 [==============================] - 2s 33us/step - loss: 0.2262 - acc: 0.9291\n",
      "Epoch 88/120\n",
      "58500/58500 [==============================] - 2s 34us/step - loss: 0.2249 - acc: 0.9300\n",
      "Epoch 89/120\n",
      "58500/58500 [==============================] - 2s 32us/step - loss: 0.2239 - acc: 0.9303\n",
      "Epoch 90/120\n",
      "58500/58500 [==============================] - 2s 32us/step - loss: 0.2221 - acc: 0.9309\n",
      "Epoch 91/120\n",
      "58500/58500 [==============================] - 2s 32us/step - loss: 0.2205 - acc: 0.9315\n",
      "Epoch 92/120\n",
      "58500/58500 [==============================] - 2s 33us/step - loss: 0.2193 - acc: 0.9320\n",
      "Epoch 93/120\n",
      "58500/58500 [==============================] - 2s 33us/step - loss: 0.2179 - acc: 0.9325\n",
      "Epoch 94/120\n",
      "58500/58500 [==============================] - 2s 33us/step - loss: 0.2170 - acc: 0.9331\n",
      "Epoch 95/120\n",
      "58500/58500 [==============================] - 2s 33us/step - loss: 0.2153 - acc: 0.9331\n",
      "Epoch 96/120\n",
      "58500/58500 [==============================] - 2s 32us/step - loss: 0.2141 - acc: 0.9346\n",
      "Epoch 97/120\n",
      "58500/58500 [==============================] - 2s 33us/step - loss: 0.2126 - acc: 0.9353\n",
      "Epoch 98/120\n",
      "58500/58500 [==============================] - 2s 33us/step - loss: 0.2115 - acc: 0.9353\n",
      "Epoch 99/120\n",
      "58500/58500 [==============================] - 2s 33us/step - loss: 0.2097 - acc: 0.9363\n",
      "Epoch 100/120\n",
      "58500/58500 [==============================] - 2s 34us/step - loss: 0.2085 - acc: 0.9371\n",
      "Epoch 101/120\n",
      "58500/58500 [==============================] - 2s 34us/step - loss: 0.2069 - acc: 0.9379\n",
      "Epoch 102/120\n",
      "58500/58500 [==============================] - 2s 34us/step - loss: 0.2054 - acc: 0.9383\n",
      "Epoch 103/120\n",
      "58500/58500 [==============================] - 2s 33us/step - loss: 0.2045 - acc: 0.9373\n",
      "Epoch 104/120\n",
      "58500/58500 [==============================] - 2s 33us/step - loss: 0.2033 - acc: 0.9390\n",
      "Epoch 105/120\n",
      "58500/58500 [==============================] - 2s 34us/step - loss: 0.2013 - acc: 0.9399\n",
      "Epoch 106/120\n",
      "58500/58500 [==============================] - 2s 33us/step - loss: 0.2002 - acc: 0.9400\n",
      "Epoch 107/120\n",
      "58500/58500 [==============================] - 2s 33us/step - loss: 0.1987 - acc: 0.9411\n",
      "Epoch 108/120\n",
      "58500/58500 [==============================] - 2s 32us/step - loss: 0.1974 - acc: 0.9413\n",
      "Epoch 109/120\n",
      "58500/58500 [==============================] - 2s 32us/step - loss: 0.1972 - acc: 0.9416\n",
      "Epoch 110/120\n",
      "58500/58500 [==============================] - 2s 32us/step - loss: 0.1946 - acc: 0.9428\n",
      "Epoch 111/120\n",
      "58500/58500 [==============================] - 2s 32us/step - loss: 0.1937 - acc: 0.9431\n",
      "Epoch 112/120\n",
      "58500/58500 [==============================] - 2s 34us/step - loss: 0.1927 - acc: 0.9437\n",
      "Epoch 113/120\n",
      "58500/58500 [==============================] - 2s 32us/step - loss: 0.1911 - acc: 0.9450\n",
      "Epoch 114/120\n",
      "58500/58500 [==============================] - 2s 32us/step - loss: 0.1897 - acc: 0.9449\n",
      "Epoch 115/120\n",
      "58500/58500 [==============================] - 2s 32us/step - loss: 0.1885 - acc: 0.9453\n",
      "Epoch 116/120\n",
      "58500/58500 [==============================] - 2s 34us/step - loss: 0.1874 - acc: 0.9456\n",
      "Epoch 117/120\n",
      "58500/58500 [==============================] - 2s 31us/step - loss: 0.1856 - acc: 0.9465\n",
      "Epoch 118/120\n",
      "58500/58500 [==============================] - 2s 32us/step - loss: 0.1848 - acc: 0.9465\n",
      "Epoch 119/120\n",
      "58500/58500 [==============================] - 2s 33us/step - loss: 0.1832 - acc: 0.9475\n",
      "Epoch 120/120\n",
      "58500/58500 [==============================] - 2s 32us/step - loss: 0.1823 - acc: 0.9475\n"
     ]
    }
   ],
   "source": [
    "history = model.fit(x=train, y=label_train, batch_size=256, epochs=120)"
   ]
  },
  {
   "cell_type": "markdown",
   "metadata": {},
   "source": [
    "Recall that the dictionary `history` has two entries: the loss and the accuracy achieved using the training set."
   ]
  },
  {
   "cell_type": "code",
   "execution_count": 23,
   "metadata": {},
   "outputs": [
    {
     "data": {
      "text/plain": [
       "dict_keys(['loss', 'acc'])"
      ]
     },
     "execution_count": 23,
     "metadata": {},
     "output_type": "execute_result"
    }
   ],
   "source": [
    "history_dict = history.history\n",
    "history_dict.keys()"
   ]
  },
  {
   "cell_type": "markdown",
   "metadata": {},
   "source": [
    "## Plot the results\n",
    "\n",
    "As you might expect, we'll use our ```import matplotlib.pyplot as plt``` for graphing. Use the data stored in the history_dict above to plot the loss vs epochs and the accuracy vs epochs."
   ]
  },
  {
   "cell_type": "code",
   "execution_count": 24,
   "metadata": {},
   "outputs": [],
   "source": [
    "def visualize_training_results(results):\n",
    "    history = results.history\n",
    "    plt.figure()\n",
    "    plt.plot(history['loss'])\n",
    "    plt.title('Loss')\n",
    "    plt.xlabel('Epochs')\n",
    "    plt.ylabel('Loss')\n",
    "    plt.show();\n",
    "    \n",
    "    plt.figure()\n",
    "    plt.plot(history['acc'])\n",
    "    plt.title('Accuracy')\n",
    "    plt.xlabel('Epochs')\n",
    "    plt.ylabel('Accuracy')\n",
    "    plt.show();"
   ]
  },
  {
   "cell_type": "code",
   "execution_count": 25,
   "metadata": {},
   "outputs": [
    {
     "data": {
      "image/png": "[encoded data removed]",
      "text/plain": [
       "<Figure size 432x288 with 1 Axes>"
      ]
     },
     "metadata": {
      "needs_background": "light"
     },
     "output_type": "display_data"
    },
    {
     "data": {
      "image/png": "[encoded data removed]",
      "text/plain": [
       "<Figure size 432x288 with 1 Axes>"
      ]
     },
     "metadata": {
      "needs_background": "light"
     },
     "output_type": "display_data"
    }
   ],
   "source": [
    "visualize_training_results(history)"
   ]
  },
  {
   "cell_type": "markdown",
   "metadata": {},
   "source": [
    "It seems like we could just keep on going and accuracy would go up!"
   ]
  },
  {
   "cell_type": "markdown",
   "metadata": {},
   "source": [
    "## Make predictions\n",
    "\n",
    "Finally, it's time to output. Use the method discussed in the previous lesson to output (probability) predictions for the test set."
   ]
  },
  {
   "cell_type": "code",
   "execution_count": 26,
   "metadata": {},
   "outputs": [],
   "source": [
    "y_hat_test = model.predict(test)"
   ]
  },
  {
   "cell_type": "markdown",
   "metadata": {},
   "source": [
    "## Evaluate Performance\n",
    "\n",
    "Finally, print the loss and accuracy for both the train and test sets of the final trained model."
   ]
  },
  {
   "cell_type": "code",
   "execution_count": 27,
   "metadata": {},
   "outputs": [
    {
     "name": "stdout",
     "output_type": "stream",
     "text": [
      "58500/58500 [==============================] - 2s 33us/step\n"
     ]
    },
    {
     "data": {
      "text/plain": [
       "[0.17348611774760433, 0.9528205128205128]"
      ]
     },
     "execution_count": 27,
     "metadata": {},
     "output_type": "execute_result"
    }
   ],
   "source": [
    "results_train = model.evaluate(train, label_train)\n",
    "results_train"
   ]
  },
  {
   "cell_type": "code",
   "execution_count": 30,
   "metadata": {},
   "outputs": [
    {
     "name": "stdout",
     "output_type": "stream",
     "text": [
      "1500/1500 [==============================] - 0s 40us/step\n"
     ]
    },
    {
     "data": {
      "text/plain": [
       "[0.33080676674842835, 0.9279999998410543]"
      ]
     },
     "execution_count": 30,
     "metadata": {},
     "output_type": "execute_result"
    }
   ],
   "source": [
    "results_test = model.evaluate(test, label_test)\n",
    "results_test"
   ]
  },
  {
   "cell_type": "markdown",
   "metadata": {},
   "source": [
    "We can see that the training set results are really good, but the test set results lag behind. In the next lab. We'll talk a little more about this in the next lecture, and will discuss how we can get better test set results as well!"
   ]
  },
  {
   "cell_type": "markdown",
   "metadata": {},
   "source": [
    "## Additional Resources"
   ]
  },
  {
   "cell_type": "markdown",
   "metadata": {},
   "source": [
    "https://github.com/susanli2016/Machine-Learning-with-Python/blob/master/Consumer_complaints.ipynb"
   ]
  },
  {
   "cell_type": "markdown",
   "metadata": {},
   "source": [
    "https://catalog.data.gov/dataset/consumer-complaint-database"
   ]
  },
  {
   "cell_type": "markdown",
   "metadata": {},
   "source": [
    "## Summary \n",
    "\n",
    "Congratulations! In this lab, you built a neural network with much less production time thanks to the tools provided by Keras! In upcoming lessons and labs we'll continue to investigate further ideas regarding how to tune and refine these models for increased accuracy and performance."
   ]
  }
 ],
 "metadata": {
  "kernelspec": {
   "display_name": "Python [conda env:learn-env] *",
   "language": "python",
   "name": "conda-env-learn-env-py"
  },
  "language_info": {
   "codemirror_mode": {
    "name": "ipython",
    "version": 3
   },
   "file_extension": ".py",
   "mimetype": "text/x-python",
   "name": "python",
   "nbconvert_exporter": "python",
   "pygments_lexer": "ipython3",
   "version": "3.6.6"
  }
 },
 "nbformat": 4,
 "nbformat_minor": 2
}
